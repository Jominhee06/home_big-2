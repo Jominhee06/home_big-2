{
 "cells": [
  {
   "cell_type": "code",
   "execution_count": 10,
   "id": "6678570e-0635-4b6f-8345-e28fdb1b2b8f",
   "metadata": {},
   "outputs": [
    {
     "name": "stdout",
     "output_type": "stream",
     "text": [
      "파이썬의 기능만으로 계산한 결과: 1.81[sec]\n",
      "NumPy를 사용한 경우의 계산 결과: 0.00[sec]\n"
     ]
    }
   ],
   "source": [
    "import numpy as np\n",
    "import time\n",
    "from numpy.random import rand\n",
    "\n",
    "N = 150\n",
    "\n",
    "matA = np.array(rand(N, N))\n",
    "matB = np.array(rand(N, N))\n",
    "matC = np.array([[0] * N for _ in range(N)])\n",
    "\n",
    "start = time.time()\n",
    "\n",
    "for i in range(N):\n",
    "    for j in range(N):\n",
    "        for k in range(N):\n",
    "            matC[i][j] = matA[i][k] * matB[k][j]\n",
    "\n",
    "print(\"파이썬의 기능만으로 계산한 결과: %.2f[sec]\" % float(time.time() -start))\n",
    "\n",
    "start = time.time()\n",
    "\n",
    "matC = np.dot(matA, matB)\n",
    "\n",
    "print(\"NumPy를 사용한 경우의 계산 결과: %.2f[sec]\" % float(time.time() -start))"
   ]
  },
  {
   "cell_type": "code",
   "execution_count": 11,
   "id": "539d3abe-246f-49f7-98c8-5cd509820287",
   "metadata": {},
   "outputs": [
    {
     "name": "stdout",
     "output_type": "stream",
     "text": [
      "파이썬의 기능만으로 계산한 결과: 1.77[sec]\n"
     ]
    }
   ],
   "source": [
    "start = time.time()\n",
    "\n",
    "for i in range(N):\n",
    "    for j in range(N):\n",
    "        for k in range(N):\n",
    "            matC[i][j] = matA[i][k] * matB[k][j]\n",
    "\n",
    "print(\"파이썬의 기능만으로 계산한 결과: %.2f[sec]\" % float(time.time() -start))"
   ]
  },
  {
   "cell_type": "code",
   "execution_count": 12,
   "id": "f9c24a89-e7d2-43bc-92b6-97f1c599dfdc",
   "metadata": {},
   "outputs": [
    {
     "name": "stdout",
     "output_type": "stream",
     "text": [
      "NumPy를 사용한 경우의 계산 결과: 0.00[sec]\n"
     ]
    }
   ],
   "source": [
    "start = time.time()\n",
    "\n",
    "matC = np.dot(matA, matB)\n",
    "\n",
    "print(\"NumPy를 사용한 경우의 계산 결과: %.2f[sec]\" % float(time.time() - start))"
   ]
  },
  {
   "cell_type": "code",
   "execution_count": 14,
   "id": "294a1456-98a4-471a-801b-b5684cdd6b70",
   "metadata": {},
   "outputs": [
    {
     "name": "stdout",
     "output_type": "stream",
     "text": [
      "[24, 3, 4, 23, 10, 12]\n",
      "[24  3  4 23 10 12]\n",
      "<class 'numpy.ndarray'>\n"
     ]
    }
   ],
   "source": [
    "import numpy as np\n",
    "\n",
    "storages = [24,3,4,23,10,12]\n",
    "print(storages)\n",
    "\n",
    "np_storages = np.array(storages)\n",
    "print(np_storages)\n",
    "\n",
    "print(type(np_storages))"
   ]
  },
  {
   "cell_type": "code",
   "execution_count": 15,
   "id": "ab0f33a7-3ff5-45f9-ae2c-1a2869cec82e",
   "metadata": {},
   "outputs": [
    {
     "name": "stdout",
     "output_type": "stream",
     "text": [
      "[2, 4, 6, 8]\n"
     ]
    }
   ],
   "source": [
    "storages = [1,2,3,4]\n",
    "new_storages = []\n",
    "for n in storages:\n",
    "    n += n\n",
    "    new_storages.append(n)\n",
    "print(new_storages)"
   ]
  },
  {
   "cell_type": "code",
   "execution_count": 17,
   "id": "63e45740-f884-4e5f-aa99-0e36e3c4a425",
   "metadata": {},
   "outputs": [
    {
     "name": "stdout",
     "output_type": "stream",
     "text": [
      "[2 4 6 8]\n"
     ]
    }
   ],
   "source": [
    "import numpy as np\n",
    "storages = np.array([1,2,3,4])\n",
    "storages += storages\n",
    "print(storages)"
   ]
  },
  {
   "cell_type": "code",
   "execution_count": 21,
   "id": "8132ef0a-c048-4bf2-ab3e-258d2a1c5d84",
   "metadata": {},
   "outputs": [
    {
     "name": "stdout",
     "output_type": "stream",
     "text": [
      "arr+arr\n",
      "[ 4 10  6  8 16]\n",
      "arr-arr\n",
      "[0 0 0 0 0]\n",
      "arr**3\n",
      "[  8 125  27  64 512]\n",
      "1/arr\n",
      "[0.5        0.2        0.33333333 0.25       0.125     ]\n"
     ]
    }
   ],
   "source": [
    "import numpy as np\n",
    "\n",
    "arr = np.array([2,5,3,4,8])\n",
    "\n",
    "print('arr+arr')\n",
    "print(arr+arr)\n",
    "\n",
    "print('arr-arr')\n",
    "print(arr-arr)\n",
    "\n",
    "print('arr**3')\n",
    "print(arr**3)\n",
    "\n",
    "print('1/arr')\n",
    "print(1/arr)"
   ]
  },
  {
   "cell_type": "code",
   "execution_count": 23,
   "id": "a6ce853d-5c22-4519-9970-90445094eb98",
   "metadata": {},
   "outputs": [
    {
     "name": "stdout",
     "output_type": "stream",
     "text": [
      "[0 1 2 3 4 5 6 7 8 9]\n",
      "[3 4 5]\n",
      "[ 0  1  2 24 24 24  6  7  8  9]\n"
     ]
    }
   ],
   "source": [
    "import numpy as np\n",
    "\n",
    "arr=np.arange(10)\n",
    "print(arr)\n",
    "\n",
    "print(arr[3:6])\n",
    "\n",
    "arr[3:6] =24\n",
    "print(arr)"
   ]
  },
  {
   "cell_type": "code",
   "execution_count": 29,
   "id": "c7147d24-90ad-4229-af28-20c04a275c51",
   "metadata": {},
   "outputs": [
    {
     "name": "stdout",
     "output_type": "stream",
     "text": [
      "[1 2 3 4 5]\n",
      "[100   2   3   4   5]\n",
      "[100   2   3   4   5]\n",
      "[1 2 3 4 5]\n",
      "[100   2   3   4   5]\n",
      "[1 2 3 4 5]\n"
     ]
    }
   ],
   "source": [
    "import numpy as np\n",
    "\n",
    "arr1 = np.array([1,2,3,4,5])\n",
    "print(arr1)\n",
    "\n",
    "arr2=arr1\n",
    "arr2[0] = 100\n",
    "print(arr2)\n",
    "\n",
    "print(arr1)\n",
    "\n",
    "\n",
    "arr1 = np.array([1,2,3,4,5])\n",
    "print(arr1)\n",
    "\n",
    "arr2 =arr1.copy()\n",
    "arr2[0] =100\n",
    "print(arr2)\n",
    "\n",
    "print(arr1)"
   ]
  },
  {
   "cell_type": "code",
   "execution_count": 30,
   "id": "aad4bebb-e55b-4ac6-899e-f36328bef5b5",
   "metadata": {},
   "outputs": [
    {
     "name": "stdout",
     "output_type": "stream",
     "text": [
      "[2 4 6]\n"
     ]
    }
   ],
   "source": [
    "arr = np.array([2,4,6,7])\n",
    "print(arr[np.array([True, True, True, False])])"
   ]
  },
  {
   "cell_type": "code",
   "execution_count": 33,
   "id": "3d7c2e71-1c28-4ebe-85ea-d63810599db6",
   "metadata": {},
   "outputs": [
    {
     "name": "stdout",
     "output_type": "stream",
     "text": [
      "[4 7]\n"
     ]
    }
   ],
   "source": [
    "arr = np.array([2,4,6,7])\n",
    "print(arr[arr % 3 == 1])"
   ]
  },
  {
   "cell_type": "code",
   "execution_count": 34,
   "id": "771b7b0d-c1c2-47a3-8ae4-2950537b27c5",
   "metadata": {},
   "outputs": [
    {
     "name": "stdout",
     "output_type": "stream",
     "text": [
      "[ True False  True False  True False]\n",
      "[2 4 6]\n"
     ]
    }
   ],
   "source": [
    "# 부울 인덱스\n",
    "import numpy as np\n",
    "\n",
    "arr = np.array([2,3,4,5,6,7])\n",
    "\n",
    "print(arr % 2 == 0)\n",
    "\n",
    "print(arr[arr % 2 == 0])"
   ]
  },
  {
   "cell_type": "code",
   "execution_count": 43,
   "id": "6a1b5a81-2f43-40a1-989e-43160547ca92",
   "metadata": {},
   "outputs": [
    {
     "name": "stdout",
     "output_type": "stream",
     "text": [
      "[ 4 -9 16 -4 20]\n",
      "[ 4  9 16  4 20]\n",
      "[5.45981500e+01 8.10308393e+03 8.88611052e+06 5.45981500e+01\n",
      " 4.85165195e+08]\n",
      "[2.         3.         4.         2.         4.47213595]\n",
      "[-0.7568025   0.41211849 -0.28790332 -0.7568025   0.91294525]\n",
      "[-0.65364362 -0.91113026 -0.95765948 -0.65364362  0.40808206]\n",
      "[ 4.  9. 16.  4. 20.]\n"
     ]
    }
   ],
   "source": [
    "import numpy as np\n",
    "\n",
    "arr = np.array([4, -9, 16, -4, 20])\n",
    "print(arr)\n",
    "\n",
    "arr_abs = np.abs(arr)\n",
    "print(arr_abs)\n",
    "\n",
    "print(np.exp(arr_abs))  # 거듭제곱\n",
    "print(np.sqrt(arr_abs)) # 제곱근\n",
    "print(np.sin(arr_abs))\n",
    "print(np.cos(arr_abs))\n",
    "print(np.fix(arr_abs))"
   ]
  },
  {
   "cell_type": "code",
   "execution_count": 42,
   "id": "4a94f14d-c62e-4b6f-b5b0-102e82651868",
   "metadata": {},
   "outputs": [
    {
     "name": "stdout",
     "output_type": "stream",
     "text": [
      "[2 5 7 9]\n",
      "[1 2 3 5 7 8 9]\n",
      "[2 5]\n",
      "[7 9]\n"
     ]
    }
   ],
   "source": [
    "import numpy as np\n",
    "\n",
    "arr1 = [2,5,7,9,5,2]\n",
    "arr2 = [2,5,8,3,1]\n",
    "\n",
    "# 중복을 제거한 배열을 변수에 대입\n",
    "new_arr1 = np.unique(arr1)\n",
    "print(new_arr1)\n",
    "\n",
    "# 합집합\n",
    "print(np.union1d(new_arr1, arr2))\n",
    "\n",
    "#교집합\n",
    "print(np.intersect1d(new_arr1, arr2))\n",
    "\n",
    "#차집합\n",
    "print(np.setdiff1d(new_arr1, arr2))"
   ]
  },
  {
   "cell_type": "code",
   "execution_count": 51,
   "id": "907d729b-e689-4123-964b-0e86f668699d",
   "metadata": {},
   "outputs": [
    {
     "name": "stdout",
     "output_type": "stream",
     "text": [
      "[[ 4  9]\n",
      " [ 0  2]\n",
      " [ 6  5]\n",
      " [ 4  4]\n",
      " [ 1 10]]\n",
      "[0.02648533 0.2990319  0.25336783]\n"
     ]
    }
   ],
   "source": [
    "# 난수\n",
    "import numpy as np\n",
    "\n",
    "from numpy.random import randint\n",
    "\n",
    "arr1 = randint(0, 11, (5, 2))\n",
    "print(arr1)\n",
    "\n",
    "# 변수 arr2에 0 이상 1미만의 난수를 3개 생성\n",
    "arr2 = np.random.rand(3)\n",
    "print(arr2)"
   ]
  },
  {
   "cell_type": "code",
   "execution_count": 52,
   "id": "02f4f0a5-62d7-437a-8b9a-ab2948ef83a8",
   "metadata": {},
   "outputs": [
    {
     "name": "stdout",
     "output_type": "stream",
     "text": [
      "[[1 2 3 4]\n",
      " [5 6 7 8]]\n",
      "(2, 4)\n",
      "[[1 2]\n",
      " [3 4]\n",
      " [5 6]\n",
      " [7 8]]\n",
      "[4 5 6]\n"
     ]
    }
   ],
   "source": [
    "# 2차원배열\n",
    "\n",
    "import numpy as np\n",
    "\n",
    "arr = np.array([[1,2,3,4], [5,6,7,8]])\n",
    "print(arr)\n",
    "\n",
    "print(arr.shape)\n",
    "\n",
    "# 변수 arr을 4행 2열의 행렬로 변환\n",
    "print(arr.reshape(4,2))\n",
    "\n",
    "arr = np.array([[1,2,3],[4,5,6]])\n",
    "print(arr[1])"
   ]
  }
 ],
 "metadata": {
  "kernelspec": {
   "display_name": "Python 3 (ipykernel)",
   "language": "python",
   "name": "python3"
  },
  "language_info": {
   "codemirror_mode": {
    "name": "ipython",
    "version": 3
   },
   "file_extension": ".py",
   "mimetype": "text/x-python",
   "name": "python",
   "nbconvert_exporter": "python",
   "pygments_lexer": "ipython3",
   "version": "3.9.6"
  }
 },
 "nbformat": 4,
 "nbformat_minor": 5
}
