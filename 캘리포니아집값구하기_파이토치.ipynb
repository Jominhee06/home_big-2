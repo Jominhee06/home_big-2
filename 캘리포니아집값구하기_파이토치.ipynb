{
  "nbformat": 4,
  "nbformat_minor": 0,
  "metadata": {
    "colab": {
      "provenance": [],
      "gpuType": "T4"
    },
    "kernelspec": {
      "name": "python3",
      "display_name": "Python 3"
    },
    "language_info": {
      "name": "python"
    },
    "accelerator": "GPU"
  },
  "cells": [
    {
      "cell_type": "markdown",
      "source": [
        "보스턴 데이터셋의 특징 출력"
      ],
      "metadata": {
        "id": "9MMYkhu2jFCV"
      }
    },
    {
      "cell_type": "code",
      "source": [
        "!pip install scikit-learn"
      ],
      "metadata": {
        "colab": {
          "base_uri": "https://localhost:8080/"
        },
        "id": "8fKQgTfvOtyZ",
        "outputId": "3693337b-f86e-47fd-804d-87393e85bb2f"
      },
      "execution_count": null,
      "outputs": [
        {
          "output_type": "stream",
          "name": "stdout",
          "text": [
            "Requirement already satisfied: scikit-learn in /usr/local/lib/python3.10/dist-packages (1.2.2)\n",
            "Requirement already satisfied: numpy>=1.17.3 in /usr/local/lib/python3.10/dist-packages (from scikit-learn) (1.25.2)\n",
            "Requirement already satisfied: scipy>=1.3.2 in /usr/local/lib/python3.10/dist-packages (from scikit-learn) (1.11.4)\n",
            "Requirement already satisfied: joblib>=1.1.1 in /usr/local/lib/python3.10/dist-packages (from scikit-learn) (1.4.2)\n",
            "Requirement already satisfied: threadpoolctl>=2.0.0 in /usr/local/lib/python3.10/dist-packages (from scikit-learn) (3.5.0)\n"
          ]
        }
      ]
    },
    {
      "cell_type": "code",
      "source": [
        "!pip install pandas"
      ],
      "metadata": {
        "colab": {
          "base_uri": "https://localhost:8080/"
        },
        "id": "pGIj_FdDPAcz",
        "outputId": "b98c5c48-43bd-4ce6-c9c1-9f74f6acac39"
      },
      "execution_count": null,
      "outputs": [
        {
          "output_type": "stream",
          "name": "stdout",
          "text": [
            "Requirement already satisfied: pandas in /usr/local/lib/python3.10/dist-packages (2.0.3)\n",
            "Requirement already satisfied: python-dateutil>=2.8.2 in /usr/local/lib/python3.10/dist-packages (from pandas) (2.8.2)\n",
            "Requirement already satisfied: pytz>=2020.1 in /usr/local/lib/python3.10/dist-packages (from pandas) (2023.4)\n",
            "Requirement already satisfied: tzdata>=2022.1 in /usr/local/lib/python3.10/dist-packages (from pandas) (2024.1)\n",
            "Requirement already satisfied: numpy>=1.21.0 in /usr/local/lib/python3.10/dist-packages (from pandas) (1.25.2)\n",
            "Requirement already satisfied: six>=1.5 in /usr/local/lib/python3.10/dist-packages (from python-dateutil>=2.8.2->pandas) (1.16.0)\n"
          ]
        }
      ]
    },
    {
      "cell_type": "code",
      "source": [
        "!pip install tqdm"
      ],
      "metadata": {
        "colab": {
          "base_uri": "https://localhost:8080/"
        },
        "id": "udPNBmsHPGL5",
        "outputId": "5e89c306-3988-4a9e-ed1b-0ff7daccaaa4"
      },
      "execution_count": null,
      "outputs": [
        {
          "output_type": "stream",
          "name": "stdout",
          "text": [
            "Requirement already satisfied: tqdm in /usr/local/lib/python3.10/dist-packages (4.66.4)\n"
          ]
        }
      ]
    },
    {
      "cell_type": "code",
      "source": [
        "from sklearn.datasets import fetch_california_housing\n",
        "\n",
        "# 데이터셋 로드\n",
        "housing = fetch_california_housing()\n",
        "\n",
        "# 데이터 및 타겟 출력\n",
        "print(housing.data.shape)\n",
        "print(housing.target.shape)\n",
        "\n",
        "# 경고 무시\n",
        "import warnings\n",
        "warnings.filterwarnings('ignore')"
      ],
      "metadata": {
        "colab": {
          "base_uri": "https://localhost:8080/"
        },
        "id": "HvINItE3jKac",
        "outputId": "4b165e1c-b9b4-444e-86ef-57a3cca9fba5"
      },
      "execution_count": null,
      "outputs": [
        {
          "output_type": "stream",
          "name": "stdout",
          "text": [
            "(20640, 8)\n",
            "(20640,)\n"
          ]
        }
      ]
    },
    {
      "cell_type": "markdown",
      "source": [
        "# 데이터의 구성요소 확인"
      ],
      "metadata": {
        "id": "YTX7aBnO5h71"
      }
    },
    {
      "cell_type": "code",
      "source": [
        "import pandas as pd\n",
        "from sklearn.datasets import fetch_california_housing\n",
        "\n",
        "# 캘리포니아 주택 데이터셋 로드\n",
        "dataset = fetch_california_housing()\n",
        "\n",
        "# 데이터셋의 데이터를 데이터프레임으로 변환\n",
        "dataFrame = pd.DataFrame(dataset[\"data\"], columns=dataset[\"feature_names\"])\n",
        "\n",
        "# 데이터 프레임에 타겟(정답) 추가\n",
        "dataFrame[\"target\"] = dataset[\"target\"]\n",
        "\n",
        "# 데이터프레임을 요약해서 출력\n",
        "print(dataFrame.head())\n"
      ],
      "metadata": {
        "id": "JD50UWMYjMeR",
        "colab": {
          "base_uri": "https://localhost:8080/"
        },
        "outputId": "e861e669-55ec-471f-de00-be1343a25e55"
      },
      "execution_count": null,
      "outputs": [
        {
          "output_type": "stream",
          "name": "stdout",
          "text": [
            "   MedInc  HouseAge  AveRooms  AveBedrms  Population  AveOccup  Latitude  \\\n",
            "0  8.3252      41.0  6.984127   1.023810       322.0  2.555556     37.88   \n",
            "1  8.3014      21.0  6.238137   0.971880      2401.0  2.109842     37.86   \n",
            "2  7.2574      52.0  8.288136   1.073446       496.0  2.802260     37.85   \n",
            "3  5.6431      52.0  5.817352   1.073059       558.0  2.547945     37.85   \n",
            "4  3.8462      52.0  6.281853   1.081081       565.0  2.181467     37.85   \n",
            "\n",
            "   Longitude  target  \n",
            "0    -122.23   4.526  \n",
            "1    -122.22   3.585  \n",
            "2    -122.24   3.521  \n",
            "3    -122.25   3.413  \n",
            "4    -122.25   3.422  \n"
          ]
        }
      ]
    },
    {
      "cell_type": "markdown",
      "source": [
        "# 선형회귀를 위한 MLP모델의 설계"
      ],
      "metadata": {
        "id": "8eDsBBv25txN"
      }
    },
    {
      "cell_type": "code",
      "source": [
        "import torch\n",
        "import torch.nn as nn\n",
        "\n",
        "from torch.optim.adam import Adam\n",
        "\n",
        "\n",
        "# ❶ 모델 정의\n",
        "model = nn.Sequential(\n",
        "   nn.Linear(8, 100),\n",
        "   nn.ReLU(),\n",
        "   nn.Linear(100, 1)\n",
        ")\n",
        "\n",
        "X = dataFrame.iloc[:, :-1].values # ❷ 정답을 제외한 특징을 X에 입력\n",
        "Y = dataFrame[\"target\"].values    # 데이터프레임의 target의 값을 추출\n",
        "\n",
        "batch_size = 100\n",
        "learning_rate = 0.001\n",
        "\n",
        "# ❸ 가중치를 수정하기 위한 최적화 정의\n",
        "optim = Adam(model.parameters(), lr=learning_rate)\n",
        "\n",
        "\n",
        "# 에포크 반복\n",
        "for epoch in range(200):\n",
        "\n",
        "   # 배치 반복\n",
        "   for i in range(len(X)//batch_size):\n",
        "       start = i*batch_size      # ➍ 배치 크기에 맞게 인덱스를 지정\n",
        "       end = start + batch_size\n",
        "\n",
        "\n",
        "       # 파이토치 실수형 텐서로 변환\n",
        "       x = torch.FloatTensor(X[start:end])\n",
        "       y = torch.FloatTensor(Y[start:end])\n",
        "\n",
        "       optim.zero_grad() # ❺ 가중치의 기울기를 0으로 초기화\n",
        "       preds = model(x)  # ❻ 모델의 예측값 계산\n",
        "       loss = nn.MSELoss()(preds, y) # ❼ MSE 손실 계산\n",
        "       loss.backward()\n",
        "       optim.step()\n",
        "\n",
        "   if epoch % 20 == 0:\n",
        "       print(f\"epoch{epoch} loss:{loss.item()}\")"
      ],
      "metadata": {
        "colab": {
          "base_uri": "https://localhost:8080/"
        },
        "id": "lMR8ZUMgGMtx",
        "outputId": "7307865f-e336-4dcd-bf72-60c448f98f07"
      },
      "execution_count": null,
      "outputs": [
        {
          "output_type": "stream",
          "name": "stdout",
          "text": [
            "epoch0 loss:5.053299427032471\n",
            "epoch20 loss:0.8689953088760376\n",
            "epoch40 loss:0.8201797604560852\n",
            "epoch60 loss:1.1852997541427612\n",
            "epoch80 loss:2.7027716636657715\n",
            "epoch100 loss:5.048101425170898\n",
            "epoch120 loss:4.8703413009643555\n",
            "epoch140 loss:28.24327850341797\n",
            "epoch160 loss:16.663436889648438\n",
            "epoch180 loss:8.785953521728516\n"
          ]
        }
      ]
    },
    {
      "cell_type": "markdown",
      "source": [
        "# 모델 성능 평가"
      ],
      "metadata": {
        "id": "t7AwM6xv555d"
      }
    },
    {
      "cell_type": "code",
      "source": [
        "prediction = model(torch.FloatTensor(X[0, :13]))\n",
        "real = Y[0]\n",
        "print(f\"prediction:{prediction.item()} real:{real}\")"
      ],
      "metadata": {
        "colab": {
          "base_uri": "https://localhost:8080/"
        },
        "id": "Ld-C77xDJkKW",
        "outputId": "c3e110e2-c6da-4810-cbd0-e1afa4a3c3ec"
      },
      "execution_count": null,
      "outputs": [
        {
          "output_type": "stream",
          "name": "stdout",
          "text": [
            "prediction:3.0476436614990234 real:4.526\n"
          ]
        }
      ]
    },
    {
      "cell_type": "code",
      "source": [],
      "metadata": {
        "id": "14kmJev_kXWq"
      },
      "execution_count": null,
      "outputs": []
    }
  ]
}