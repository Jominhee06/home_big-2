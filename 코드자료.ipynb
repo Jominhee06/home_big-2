{
  "nbformat": 4,
  "nbformat_minor": 0,
  "metadata": {
    "colab": {
      "provenance": [],
      "include_colab_link": true
    },
    "kernelspec": {
      "name": "python3",
      "display_name": "Python 3"
    },
    "language_info": {
      "name": "python"
    }
  },
  "cells": [
    {
      "cell_type": "markdown",
      "metadata": {
        "id": "view-in-github",
        "colab_type": "text"
      },
      "source": [
        "<a href=\"https://colab.research.google.com/github/Jominhee06/home_big-2/blob/main/%EC%BD%94%EB%93%9C%EC%9E%90%EB%A3%8C.ipynb\" target=\"_parent\"><img src=\"https://colab.research.google.com/assets/colab-badge.svg\" alt=\"Open In Colab\"/></a>"
      ]
    },
    {
      "cell_type": "markdown",
      "source": [
        "# AWS Deepracer — How to train a model in 15 minutes\n",
        "\n",
        "- 원본 자료\n",
        "  - https://falktan.medium.com/aws-deepracer-how-to-train-a-model-in-15-minutes-a07ab77fb793\n",
        "  - https://github.com/TwoDigits/deepracer/blob/master/reward_function.py\n"
      ],
      "metadata": {
        "id": "xlodLMgiyNnR"
      }
    },
    {
      "cell_type": "code",
      "execution_count": null,
      "metadata": {
        "id": "nUeQ9dAFfaJZ"
      },
      "outputs": [],
      "source": [
        "import math\n",
        "\n",
        "\n",
        "def dist(point1, point2):\n",
        "    return ((point1[0] - point2[0]) ** 2 + (point1[1] - point2[1]) ** 2) ** 0.5\n",
        "\n",
        "\n",
        "# thanks to https://stackoverflow.com/questions/20924085/python-conversion-between-coordinates\n",
        "def polar(x, y):\n",
        "    \"\"\"\n",
        "    returns r, theta(degrees)\n",
        "    \"\"\"\n",
        "\n",
        "    r = (x ** 2 + y ** 2) ** .5\n",
        "    theta = math.degrees(math.atan2(y,x))\n",
        "    return r, theta\n",
        "\n",
        "\n",
        "def angle_mod_360(angle):\n",
        "    \"\"\"\n",
        "    Maps an angle to the interval -180, +180.\n",
        "\n",
        "    Examples:\n",
        "    angle_mod_360(362) == 2\n",
        "    angle_mod_360(270) == -90\n",
        "\n",
        "    :param angle: angle in degree\n",
        "    :return: angle in degree. Between -180 and +180\n",
        "    \"\"\"\n",
        "\n",
        "    n = math.floor(angle/360.0)\n",
        "\n",
        "    angle_between_0_and_360 = angle - n*360.0\n",
        "\n",
        "    if angle_between_0_and_360 <= 180.0:\n",
        "        return angle_between_0_and_360\n",
        "    else:\n",
        "        return angle_between_0_and_360 - 360\n",
        "\n",
        "\n",
        "def up_sample(waypoints, factor):\n",
        "    p = waypoints\n",
        "    n = len(p)\n",
        "    up_sample_waypoints = []\n",
        "\n",
        "    for j in range(n):\n",
        "        for i in range(factor):\n",
        "            x = i / factor * p[(j+1) % n][0] + (1 - i / factor) * p[j][0]\n",
        "            y = i / factor * p[(j+1) % n][1] + (1 - i / factor) * p[j][1]\n",
        "            up_sample_waypoints.append([x, y])\n",
        "\n",
        "    return up_sample_waypoints\n",
        "\n",
        "\n",
        "def get_target_point(params):\n",
        "    waypoints = up_sample(params['waypoints'], 20)\n",
        "\n",
        "    car = [params['x'], params['y']]\n",
        "\n",
        "    distances = [dist(p, car) for p in waypoints]\n",
        "    min_dist = min(distances)\n",
        "    i_closest = distances.index(min_dist)\n",
        "\n",
        "    n = len(waypoints)\n",
        "\n",
        "    waypoints_starting_with_closest = [waypoints[(i+i_closest) % n] for i in range(n)]\n",
        "\n",
        "    r = params['track_width'] * 0.9\n",
        "\n",
        "    is_inside = [dist(p, car) < r for p in waypoints_starting_with_closest]\n",
        "    i_first_outside = is_inside.index(False)\n",
        "\n",
        "    if i_first_outside < 0:  # this can only happen if we choose r as big as the entire track\n",
        "        return waypoints[i_closest]\n",
        "\n",
        "    return waypoints_starting_with_closest[i_first_outside]\n",
        "\n",
        "\n",
        "def get_target_steering_degree(params):\n",
        "    tx, ty = get_target_point(params)\n",
        "    car_x = params['x']\n",
        "    car_y = params['y']\n",
        "    dx = tx-car_x\n",
        "    dy = ty-car_y\n",
        "    heading = params['heading']\n",
        "\n",
        "    _, target_angle = polar(dx, dy)\n",
        "\n",
        "    steering_angle = target_angle - heading\n",
        "\n",
        "    return angle_mod_360(steering_angle)\n",
        "\n",
        "\n",
        "def score_steer_to_point_ahead(params):\n",
        "    best_stearing_angle = get_target_steering_degree(params)\n",
        "    steering_angle = params['steering_angle']\n",
        "\n",
        "    error = (steering_angle - best_stearing_angle) / 60.0  # 60 degree is already really bad\n",
        "\n",
        "    score = 1.0 - abs(error)\n",
        "\n",
        "    return max(score, 0.01)  # optimizer is rumored to struggle with negative numbers and numbers too close to zero\n",
        "\n",
        "\n",
        "def reward_function(params):\n",
        "    return float(score_steer_to_point_ahead(params))"
      ]
    }
  ]
}