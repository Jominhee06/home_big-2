{
  "nbformat": 4,
  "nbformat_minor": 0,
  "metadata": {
    "colab": {
      "provenance": [],
      "gpuType": "T4"
    },
    "kernelspec": {
      "name": "python3",
      "display_name": "Python 3"
    },
    "language_info": {
      "name": "python"
    },
    "accelerator": "GPU"
  },
  "cells": [
    {
      "cell_type": "code",
      "source": [
        "from tkinter import*\n",
        "\n",
        "win = Tk()\n",
        "win.geometry(\"300x100\") # 창 크기\n",
        "win.option_add(\"*Font\", \"고딕 20\")  # 글씨 크기\n",
        "\n",
        "ent = Entry(win)\n",
        "ent.pack() # 입력창\n",
        "#ent.get() # 내용을 받아옴\n",
        "\n",
        "def lotto_p():\n",
        "  import requests\n",
        "  from bs4 import BeautifulSoup\n",
        "  n= ent.get()\n",
        "  url = \"https://dhlottery.co.kr/gameResult.do?method=byWin={}\".format(n)\n",
        "  req = requests.get(url)\n",
        "  soup = BeautifulSoup(req.text, \"html.parser\")\n",
        "  txt = soup.find(\"div\" ,attrs = {\"class\" , \"win_result\"}).get.text()\n",
        "  num_list = txt.split(\"\\n\")[7:13]\n",
        "  bonus = txt.split(\"\\n\")[-4]\n",
        "  print(\"당첨번호\")\n",
        "  print(num_list)\n",
        "  print(\"보너스번호\")\n",
        "  print(bonus)\n",
        "\n",
        "btn = Button(win)\n",
        "btn.config(text= \"로또 당첨 번호 확인\")\n",
        "btn.config(command= lotto_p)\n",
        "btn.pack()\n",
        "win.mainloop()"
      ],
      "metadata": {
        "collapsed": true,
        "id": "-5Fw_TYFY3Qe"
      },
      "execution_count": null,
      "outputs": []
    }
  ]
}