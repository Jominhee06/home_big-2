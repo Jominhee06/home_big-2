{
 "cells": [
  {
   "cell_type": "code",
   "execution_count": 10,
   "id": "6678570e-0635-4b6f-8345-e28fdb1b2b8f",
   "metadata": {},
   "outputs": [
    {
     "name": "stdout",
     "output_type": "stream",
     "text": [
      "파이썬의 기능만으로 계산한 결과: 1.81[sec]\n",
      "NumPy를 사용한 경우의 계산 결과: 0.00[sec]\n"
     ]
    }
   ],
   "source": [
    "import numpy as np\n",
    "import time\n",
    "from numpy.random import rand\n",
    "\n",
    "N = 150\n",
    "\n",
    "matA = np.array(rand(N, N))\n",
    "matB = np.array(rand(N, N))\n",
    "matC = np.array([[0] * N for _ in range(N)])\n",
    "\n",
    "start = time.time()\n",
    "\n",
    "for i in range(N):\n",
    "    for j in range(N):\n",
    "        for k in range(N):\n",
    "            matC[i][j] = matA[i][k] * matB[k][j]\n",
    "\n",
    "print(\"파이썬의 기능만으로 계산한 결과: %.2f[sec]\" % float(time.time() -start))\n",
    "\n",
    "start = time.time()\n",
    "\n",
    "matC = np.dot(matA, matB)\n",
    "\n",
    "print(\"NumPy를 사용한 경우의 계산 결과: %.2f[sec]\" % float(time.time() -start))"
   ]
  },
  {
   "cell_type": "code",
   "execution_count": 11,
   "id": "539d3abe-246f-49f7-98c8-5cd509820287",
   "metadata": {},
   "outputs": [
    {
     "name": "stdout",
     "output_type": "stream",
     "text": [
      "파이썬의 기능만으로 계산한 결과: 1.77[sec]\n"
     ]
    }
   ],
   "source": [
    "start = time.time()\n",
    "\n",
    "for i in range(N):\n",
    "    for j in range(N):\n",
    "        for k in range(N):\n",
    "            matC[i][j] = matA[i][k] * matB[k][j]\n",
    "\n",
    "print(\"파이썬의 기능만으로 계산한 결과: %.2f[sec]\" % float(time.time() -start))"
   ]
  },
  {
   "cell_type": "code",
   "execution_count": 12,
   "id": "f9c24a89-e7d2-43bc-92b6-97f1c599dfdc",
   "metadata": {},
   "outputs": [
    {
     "name": "stdout",
     "output_type": "stream",
     "text": [
      "NumPy를 사용한 경우의 계산 결과: 0.00[sec]\n"
     ]
    }
   ],
   "source": [
    "start = time.time()\n",
    "\n",
    "matC = np.dot(matA, matB)\n",
    "\n",
    "print(\"NumPy를 사용한 경우의 계산 결과: %.2f[sec]\" % float(time.time() - start))"
   ]
  },
  {
   "cell_type": "code",
   "execution_count": 52,
   "id": "294a1456-98a4-471a-801b-b5684cdd6b70",
   "metadata": {},
   "outputs": [
    {
     "name": "stdout",
     "output_type": "stream",
     "text": [
      "[24, 3, 4, 23, 10, 12]\n",
      "[24  3  4 23 10 12]\n",
      "<class 'numpy.ndarray'>\n"
     ]
    }
   ],
   "source": [
    "import numpy as np\n",
    "\n",
    "storages = [24,3,4,23,10,12]\n",
    "print(storages)\n",
    "\n",
    "# ndarray 배열을 생성하고 변수 np_storages에 대입하세요\n",
    "np_storages = np.array(storages)\n",
    "print(np_storages)\n",
    "\n",
    "# 변수 np_storages의 자료형을 출력\n",
    "print(type(np_storages))"
   ]
  },
  {
   "cell_type": "code",
   "execution_count": 53,
   "id": "ab0f33a7-3ff5-45f9-ae2c-1a2869cec82e",
   "metadata": {},
   "outputs": [
    {
     "name": "stdout",
     "output_type": "stream",
     "text": [
      "[2, 4, 6, 8]\n"
     ]
    }
   ],
   "source": [
    "# numpy를 사용하지 않고 실행합니다\n",
    "storages = [1,2,3,4]\n",
    "new_storages = []\n",
    "for n in storages:\n",
    "    n += n\n",
    "    new_storages.append(n)\n",
    "print(new_storages)"
   ]
  },
  {
   "cell_type": "code",
   "execution_count": 54,
   "id": "63e45740-f884-4e5f-aa99-0e36e3c4a425",
   "metadata": {},
   "outputs": [
    {
     "name": "stdout",
     "output_type": "stream",
     "text": [
      "[2 4 6 8]\n"
     ]
    }
   ],
   "source": [
    "# numpy를 사용하여 실행합니다\n",
    "import numpy as np\n",
    "storages = np.array([1,2,3,4])\n",
    "storages += storages\n",
    "print(storages)"
   ]
  },
  {
   "cell_type": "code",
   "execution_count": 43,
   "id": "8132ef0a-c048-4bf2-ab3e-258d2a1c5d84",
   "metadata": {},
   "outputs": [
    {
     "name": "stdout",
     "output_type": "stream",
     "text": [
      "arr+arr\n",
      "[ 4 10  6  8 16]\n",
      "arr-arr\n",
      "[0 0 0 0 0]\n",
      "arr**3\n",
      "[  8 125  27  64 512]\n",
      "1/arr\n",
      "[0.5        0.2        0.33333333 0.25       0.125     ]\n"
     ]
    }
   ],
   "source": [
    "# numpy 1차원 배열 계산\n",
    "import numpy as np\n",
    "\n",
    "arr = np.array([2,5,3,4,8])\n",
    "\n",
    "print('arr+arr')\n",
    "print(arr+arr)\n",
    "\n",
    "print('arr-arr')\n",
    "print(arr-arr)\n",
    "\n",
    "print('arr**3')\n",
    "print(arr**3)\n",
    "\n",
    "print('1/arr')\n",
    "print(1/arr)"
   ]
  },
  {
   "cell_type": "code",
   "execution_count": 47,
   "id": "cfadb4e2-a0a4-44b7-99a1-00d3577a9b06",
   "metadata": {},
   "outputs": [
    {
     "name": "stdout",
     "output_type": "stream",
     "text": [
      "[0 1 2 3 4 5 6 7 8 9]\n"
     ]
    }
   ],
   "source": [
    "# 1차원 ndarray 생성\n",
    "arr = np.arange(10)\n",
    "print(arr)"
   ]
  },
  {
   "cell_type": "code",
   "execution_count": 46,
   "id": "dc58c6e8-345a-4d4f-99f7-380ac4efcdfd",
   "metadata": {},
   "outputs": [
    {
     "name": "stdout",
     "output_type": "stream",
     "text": [
      "[1 1 1 3 4 5 6 7 8 9]\n"
     ]
    }
   ],
   "source": [
    "#arr[start:end] = 변경하려는 값, 끝숫자는 end-1까지 주의\n",
    "arr = np.arange(10)\n",
    "arr[0:3] = 1\n",
    "print(arr)"
   ]
  },
  {
   "cell_type": "code",
   "execution_count": 42,
   "id": "a6ce853d-5c22-4519-9970-90445094eb98",
   "metadata": {},
   "outputs": [
    {
     "name": "stdout",
     "output_type": "stream",
     "text": [
      "[0 1 2 3 4 5 6 7 8 9]\n",
      "[3 4 5]\n",
      "[ 0  1  2 24 24 24  6  7  8  9]\n"
     ]
    }
   ],
   "source": [
    "# 특정부분만 출력 ,특정부분의 값을 변경\n",
    "import numpy as np\n",
    "\n",
    "arr=np.arange(10)\n",
    "print(arr)\n",
    "\n",
    "# 변수 arr의 요소 중 3,4,5만 출력\n",
    "print(arr[3:6])\n",
    "\n",
    "# 변수 arr의 요소 중 3,4,5을 24로 변경하십시오\n",
    "arr[3:6] =24\n",
    "print(arr)"
   ]
  },
  {
   "cell_type": "code",
   "execution_count": 48,
   "id": "c7147d24-90ad-4229-af28-20c04a275c51",
   "metadata": {},
   "outputs": [
    {
     "name": "stdout",
     "output_type": "stream",
     "text": [
      "[1 2 3 4 5]\n",
      "[100   2   3   4   5]\n",
      "[100   2   3   4   5]\n",
      "[1 2 3 4 5]\n",
      "[100   2   3   4   5]\n",
      "[1 2 3 4 5]\n"
     ]
    }
   ],
   "source": [
    "# ndarray 사용시 주의사항\n",
    "import numpy as np\n",
    "\n",
    "# ndarray를 그대로 arr2 변수에 대입한 경우를 살펴봅시다\n",
    "arr1 = np.array([1,2,3,4,5])\n",
    "print(arr1)\n",
    "\n",
    "arr2=arr1\n",
    "arr2[0] = 100\n",
    "print(arr2)\n",
    "\n",
    "# arr2 변수를 변경하면 원래 변수(arr1)도 영향을 받고 있습니다\n",
    "print(arr1)\n",
    "\n",
    "# ndarray를 copy()를 사용해 arr2 변수에 대입한 경우를 살펴봅시다\n",
    "arr1 = np.array([1,2,3,4,5])\n",
    "print(arr1)\n",
    "\n",
    "arr2 =arr1.copy()\n",
    "arr2[0] =100\n",
    "print(arr2)\n",
    "\n",
    "# arr2 변수를 변경해도 원래 변수(arr1)에 영향을 주지 않습니다\n",
    "print(arr1)"
   ]
  },
  {
   "cell_type": "code",
   "execution_count": 49,
   "id": "aad4bebb-e55b-4ac6-899e-f36328bef5b5",
   "metadata": {},
   "outputs": [
    {
     "name": "stdout",
     "output_type": "stream",
     "text": [
      "[2 4 6]\n"
     ]
    }
   ],
   "source": [
    "# 논리값 배열로 표현 출력에 반영됨\n",
    "\n",
    "arr = np.array([2,4,6,7])\n",
    "print(arr[np.array([True, True, True, False])])"
   ]
  },
  {
   "cell_type": "code",
   "execution_count": 50,
   "id": "3d7c2e71-1c28-4ebe-85ea-d63810599db6",
   "metadata": {},
   "outputs": [
    {
     "name": "stdout",
     "output_type": "stream",
     "text": [
      "[4 7]\n"
     ]
    }
   ],
   "source": [
    "# 연산결과로 논리값 배열로 표현 출력에 반영됨\n",
    "\n",
    "arr = np.array([2,4,6,7])\n",
    "print(arr[arr % 3 == 1])"
   ]
  },
  {
   "cell_type": "code",
   "execution_count": 51,
   "id": "771b7b0d-c1c2-47a3-8ae4-2950537b27c5",
   "metadata": {},
   "outputs": [
    {
     "name": "stdout",
     "output_type": "stream",
     "text": [
      "[ True False  True False  True False]\n",
      "[2 4 6]\n"
     ]
    }
   ],
   "source": [
    "# 부울 인덱스\n",
    "import numpy as np\n",
    "\n",
    "arr = np.array([2,3,4,5,6,7])\n",
    "\n",
    "# 변수 arr의 각 요소가 2로 나누어 떨어지는지를 나타내는 부울 배열을 출력\n",
    "print(arr % 2 == 0)\n",
    "\n",
    "# 변수 arr의 각 요소 중에서 2로 나누어 떨어진 것의 배열을 출력\n",
    "print(arr[arr % 2 == 0])"
   ]
  },
  {
   "cell_type": "code",
   "execution_count": 39,
   "id": "6a1b5a81-2f43-40a1-989e-43160547ca92",
   "metadata": {},
   "outputs": [
    {
     "name": "stdout",
     "output_type": "stream",
     "text": [
      "[ 4 -9 16 -4 20]\n",
      "[ 4  9 16  4 20]\n",
      "[5.45981500e+01 8.10308393e+03 8.88611052e+06 5.45981500e+01\n",
      " 4.85165195e+08]\n",
      "[2.         3.         4.         2.         4.47213595]\n",
      "[-0.7568025   0.41211849 -0.28790332 -0.7568025   0.91294525]\n",
      "[-0.65364362 -0.91113026 -0.95765948 -0.65364362  0.40808206]\n",
      "[ 4.  9. 16.  4. 20.]\n"
     ]
    }
   ],
   "source": [
    "# 범용함수\n",
    "import numpy as np\n",
    "\n",
    "arr = np.array([4, -9, 16, -4, 20])\n",
    "print(arr)\n",
    "\n",
    "arr_abs = np.abs(arr)  #abs = 절대값\n",
    "print(arr_abs)\n",
    "\n",
    "print(np.exp(arr_abs))  # 지수함수\n",
    "print(np.sqrt(arr_abs)) # 제곱근\n",
    "print(np.sin(arr_abs))  \n",
    "print(np.cos(arr_abs))\n",
    "print(np.fix(arr_abs))"
   ]
  },
  {
   "cell_type": "code",
   "execution_count": 38,
   "id": "4a94f14d-c62e-4b6f-b5b0-102e82651868",
   "metadata": {},
   "outputs": [
    {
     "name": "stdout",
     "output_type": "stream",
     "text": [
      "[2 5 7 9]\n",
      "[1 2 3 5 7 8 9]\n",
      "[2 5]\n",
      "[7 9]\n"
     ]
    }
   ],
   "source": [
    "# 집합함수\n",
    "import numpy as np\n",
    "\n",
    "arr1 = [2,5,7,9,5,2]\n",
    "arr2 = [2,5,8,3,1]\n",
    "\n",
    "# 중복을 제거한 배열을 변수에 대입\n",
    "new_arr1 = np.unique(arr1)\n",
    "print(new_arr1)\n",
    "\n",
    "# 합집합\n",
    "print(np.union1d(new_arr1, arr2))\n",
    "\n",
    "#교집합\n",
    "print(np.intersect1d(new_arr1, arr2))\n",
    "\n",
    "#차집합\n",
    "print(np.setdiff1d(new_arr1, arr2))"
   ]
  },
  {
   "cell_type": "code",
   "execution_count": 51,
   "id": "907d729b-e689-4123-964b-0e86f668699d",
   "metadata": {},
   "outputs": [
    {
     "name": "stdout",
     "output_type": "stream",
     "text": [
      "[[ 4  9]\n",
      " [ 0  2]\n",
      " [ 6  5]\n",
      " [ 4  4]\n",
      " [ 1 10]]\n",
      "[0.02648533 0.2990319  0.25336783]\n"
     ]
    }
   ],
   "source": [
    "# 난수\n",
    "import numpy as np\n",
    "\n",
    "from numpy.random import randint\n",
    "\n",
    "arr1 = randint(0, 11, (5, 2))\n",
    "print(arr1)\n",
    "\n",
    "# 변수 arr2에 0 이상 1미만의 난수를 3개 생성\n",
    "arr2 = np.random.rand(3)\n",
    "print(arr2)"
   ]
  },
  {
   "cell_type": "code",
   "execution_count": 21,
   "id": "02f4f0a5-62d7-437a-8b9a-ab2948ef83a8",
   "metadata": {},
   "outputs": [
    {
     "name": "stdout",
     "output_type": "stream",
     "text": [
      "[[1 2 3 4]\n",
      " [5 6 7 8]]\n",
      "(2, 4)\n",
      "[[1 2]\n",
      " [3 4]\n",
      " [5 6]\n",
      " [7 8]]\n",
      "[4 5 6]\n"
     ]
    }
   ],
   "source": [
    "# 2차원배열\n",
    "# 배열 각차원의 요소수를 확인 : ndarray.shape\n",
    "# 지정 행렬로 변환 : ndarray.reshape(a,b)\n",
    "import numpy as np\n",
    "\n",
    "# 변수 arr에 2차원 배열을 대입하세요\n",
    "arr = np.array([[1,2,3,4], [5,6,7,8]])\n",
    "print(arr)\n",
    "\n",
    "# 변수 arr 행렬의 각 차원의 요소 수를 출력하세요\n",
    "print(arr.shape)\n",
    "\n",
    "# 변수 arr을 4행 2열의 행렬로 변환\n",
    "print(arr.reshape(4,2))\n",
    "\n",
    "arr = np.array([[1,2,3],[4,5,6]])\n",
    "print(arr[1])"
   ]
  },
  {
   "cell_type": "code",
   "execution_count": 4,
   "id": "796ab19a-a59b-43dc-975d-a650d88d632e",
   "metadata": {},
   "outputs": [
    {
     "name": "stdout",
     "output_type": "stream",
     "text": [
      "[[1 2 3]\n",
      " [4 5 6]\n",
      " [7 8 9]]\n",
      "3\n",
      "[[4 5]\n",
      " [7 8]]\n"
     ]
    }
   ],
   "source": [
    "# 인덱스 요소 반환 , 슬라이스는 :로 나머지 행,열을 표현\n",
    "# 인덱스 참조와 슬라이드\n",
    "import numpy as np\n",
    "\n",
    "arr = np.array([[1,2,3],[4,5,6],[7,8,9]])\n",
    "print(arr)\n",
    "\n",
    "# 변수 arr의 요소 중 3을 출력하세요\n",
    "print(arr[0,2])\n",
    "\n",
    "# 변수 arr에서 부분적으로 꺼내어 출력하세요\n",
    "#\"1행 이후, 2열 까지\"를 꺼냅니다\n",
    "print(arr[1:,:2])"
   ]
  },
  {
   "cell_type": "code",
   "execution_count": 11,
   "id": "79a0d0dc-8b25-478b-b765-7d05a334af61",
   "metadata": {},
   "outputs": [
    {
     "name": "stdout",
     "output_type": "stream",
     "text": [
      "21\n",
      "[5 7 9]\n",
      "[ 6 15]\n"
     ]
    }
   ],
   "source": [
    "#axis(N차원 배열을 구성하는 요소) = N차원 배열을 정의할때 사용되기도하며 여러 연산 과정에서의 기준으로도 쓰입니다.\n",
    "arr = np.array([[1,2,3],[4,5,6]])\n",
    "\n",
    "print(arr.sum())\n",
    "print(arr.sum(axis=0)) # 0 세로로 계산\n",
    "print(arr.sum(axis=1)) # 1 가로로 계산"
   ]
  },
  {
   "cell_type": "code",
   "execution_count": 10,
   "id": "c8214291-5628-4abf-8f77-449e924fa106",
   "metadata": {},
   "outputs": [
    {
     "name": "stdout",
     "output_type": "stream",
     "text": [
      "[ 6 21 57]\n"
     ]
    }
   ],
   "source": [
    "import numpy as np\n",
    "\n",
    "arr = np.array([[1,2,3],[4,5,12],[15,20,22]])  \n",
    "\n",
    "# arr행의 합을 구하여 문제에서 제시한 1차원 배열을 반환하세요\n",
    "print(arr.sum(axis=1))  # 행으로 계산 1 가로"
   ]
  },
  {
   "cell_type": "code",
   "execution_count": 13,
   "id": "df134186-51a0-4f2b-b9b7-d2d9cf83c133",
   "metadata": {},
   "outputs": [
    {
     "name": "stdout",
     "output_type": "stream",
     "text": [
      "[[7 8]\n",
      " [5 6]\n",
      " [1 2]]\n"
     ]
    }
   ],
   "source": [
    "# 팬시 인덱스 참조\n",
    "arr = np.array([[1,2],[3,4],[5,6],[7,8]])  # ndarray배열 안에 []를 사용하여 인덱스번호 입력\n",
    "\n",
    "# 3행,2행,0행을 순서대로 추출하여 새로운 요소를 만듭니다\n",
    "# 인덱스 번호는 0부터 시작합니다\n",
    "print(arr[[3,2,0]])"
   ]
  },
  {
   "cell_type": "code",
   "execution_count": 15,
   "id": "c9fec4db-bb5b-488a-b384-fc34092825a6",
   "metadata": {},
   "outputs": [
    {
     "name": "stdout",
     "output_type": "stream",
     "text": [
      "[[ 5  6  7  8  9]\n",
      " [15 16 17 18 19]\n",
      " [ 0  1  2  3  4]]\n"
     ]
    }
   ],
   "source": [
    "import numpy as np\n",
    "\n",
    "arr = np.arange(25).reshape(5, 5)\n",
    "\n",
    "# 변수 arr의 행의 순서를 변경하여 출력하세요\n",
    "print(arr[[1,3,0]])"
   ]
  },
  {
   "cell_type": "code",
   "execution_count": 16,
   "id": "c0e8e4ff-cfdb-4e3d-aff7-23303a862ab1",
   "metadata": {},
   "outputs": [
    {
     "name": "stdout",
     "output_type": "stream",
     "text": [
      "Original array: [0 1 2 3 4 5]\n",
      "Reshaped to 2x3 array:\n",
      " [[0 1 2]\n",
      " [3 4 5]]\n"
     ]
    }
   ],
   "source": [
    "import numpy as np\n",
    "\n",
    "# 1차원 배열을 생성\n",
    "a = np.arange(6)\n",
    "print(\"Original array:\", a)\n",
    "\n",
    "# 2x3 배열로 reshape\n",
    "b = a.reshape((2, 3))\n",
    "print(\"Reshaped to 2x3 array:\\n\", b)"
   ]
  },
  {
   "cell_type": "code",
   "execution_count": 18,
   "id": "797d0b80-a294-4af6-aef5-d89b605c7159",
   "metadata": {},
   "outputs": [
    {
     "name": "stdout",
     "output_type": "stream",
     "text": [
      "[[0 5]\n",
      " [1 6]\n",
      " [2 7]\n",
      " [3 8]\n",
      " [4 9]]\n"
     ]
    }
   ],
   "source": [
    "# 전치행렬\n",
    "# 행렬의 전치 : ndarray.T\n",
    "# 행렬의 전치 : ndarray.transpose()\n",
    "import numpy as np\n",
    "\n",
    "arr = np.arange(10).reshape(2, 5)\n",
    "\n",
    "# 변수 arr을 전치하세요\n",
    "print(arr.T) #print(np.transpose(arr))"
   ]
  },
  {
   "cell_type": "code",
   "execution_count": 24,
   "id": "6808eb0e-da98-459a-976c-39719d6ba3cb",
   "metadata": {},
   "outputs": [
    {
     "data": {
      "text/plain": [
       "array([2, 0, 1])"
      ]
     },
     "execution_count": 24,
     "metadata": {},
     "output_type": "execute_result"
    }
   ],
   "source": [
    "# 정렬\n",
    "# 정렬된 배열의 인덱스 : ndarray.argsort()\n",
    "arr = np.array([15,30,5])\n",
    "arr.argsort()"
   ]
  },
  {
   "cell_type": "code",
   "execution_count": 58,
   "id": "572db472-335e-4c0c-92db-8c8a72fe7d7d",
   "metadata": {},
   "outputs": [
    {
     "name": "stdout",
     "output_type": "stream",
     "text": [
      "[[2 1 0]\n",
      " [2 0 1]]\n",
      "[[2 4 8]\n",
      " [1 3 5]]\n",
      "[[2 4 8]\n",
      " [1 3 5]]\n"
     ]
    }
   ],
   "source": [
    "# 정렬된 배열의 인덱스 : ndarray.argsort()\n",
    "# 정렬함수 : np.sort(ndarray)\n",
    "# 정렬메서드 : ndarray.sort() ; 0열단위 1행단위,\n",
    "# sort = 메소드를 가지고 이 메소드는 리스트를 정렬된 상태로 변경 , 오름차순, 내림차순으로 정렬\n",
    "# 반환 값은 없고(None), 함수 내에서 실행 결과가 반영되는 inplace 함수\n",
    "\n",
    "import numpy as np\n",
    "\n",
    "arr = np.array([[8,4,2],[3,5,1]])\n",
    "\n",
    "# argsort() 메서드로 출력하세요\n",
    "print(arr.argsort())\n",
    "\n",
    "# np.sort() 함수로 정렬하여 출력하세요\n",
    "print(np.sort(arr))\n",
    "\n",
    "#sort() 메서드로 행을 정렬하세요\n",
    "arr.sort(1)\n",
    "print(arr)"
   ]
  },
  {
   "cell_type": "code",
   "execution_count": 30,
   "id": "4caddb54-7014-46b2-b0c4-1fbc2132e06a",
   "metadata": {},
   "outputs": [
    {
     "name": "stdout",
     "output_type": "stream",
     "text": [
      "[[ 15  18  21]\n",
      " [ 42  54  66]\n",
      " [ 69  90 111]]\n",
      "14.2828568570857\n"
     ]
    }
   ],
   "source": [
    "# 행렬계산\n",
    "# 행렬곱 : np.dot(a,b)\n",
    "# 노름(벡터의 길이 반환) : np.linalg.norm(a)\n",
    "import numpy as np\n",
    "\n",
    "#arr을 정의합니다\n",
    "arr = np.arange(9).reshape(3,3)\n",
    "\n",
    "# 변수 arr와 arr의 행렬곱을 출력하세요\n",
    "print(np.dot(arr, arr))\n",
    "\n",
    "#vec를 정의합니다\n",
    "vec = arr.reshape(9)\n",
    "\n",
    "# 변수 vec의 노름을 출력하세요 # 벡터의 길이\n",
    "print(np.linalg.norm(vec))"
   ]
  },
  {
   "cell_type": "code",
   "execution_count": 31,
   "id": "1ef22e6c-a7c4-4fc6-b561-4f8062ce6517",
   "metadata": {},
   "outputs": [
    {
     "name": "stdout",
     "output_type": "stream",
     "text": [
      "[5. 6. 7. 8. 9.]\n",
      "[10 35 60]\n",
      "0\n",
      "[2 2 2 2 2]\n"
     ]
    }
   ],
   "source": [
    "# 통계함수\n",
    "#평균 : ndarray.mean(axis=0) ; 0열단위 1행단위\n",
    "#합계 : ndarray.sum(axis=0) ; 0열단위 1행단위\n",
    "#최솟값 : ndarray.min()\n",
    "#최대값 인덱스 : ndarray.argmax(axis=0) ; 0열단위 1행단위\n",
    "import numpy as np\n",
    "\n",
    "arr = np.arange(15).reshape(3,5)\n",
    "\n",
    "# 변수 arr의 각 열의 평균을 출력하세요\n",
    "print(arr.mean(axis=0))\n",
    "\n",
    "# 변수 arr의 행 합계를 출력하세요\n",
    "print(arr.sum(axis=1))\n",
    "\n",
    "# 변수 arr의 최소값을 출력하세요\n",
    "print(arr.min())\n",
    "\n",
    "# 변수 arr의 각 열의 최대값의 인덱스 번호를 출력하세요\n",
    "print(arr.argmax(axis=0))"
   ]
  },
  {
   "cell_type": "code",
   "execution_count": 36,
   "id": "832d38a4-5878-41bd-a373-0604718ad501",
   "metadata": {},
   "outputs": [
    {
     "name": "stdout",
     "output_type": "stream",
     "text": [
      "[[1 2 3]\n",
      " [4 5 6]]\n"
     ]
    }
   ],
   "source": [
    "# 브로드케스트\n",
    "x = np.arange(6).reshape(2,3)\n",
    "print(x+1)   # 배열(2*3)의 요소에 1을 각각 더함"
   ]
  },
  {
   "cell_type": "code",
   "execution_count": 37,
   "id": "a2cd1c9c-4e2e-4229-aa95-c73f27fd1575",
   "metadata": {},
   "outputs": [
    {
     "name": "stdout",
     "output_type": "stream",
     "text": [
      "x:\n",
      "[[ 0  1  2  3  4]\n",
      " [ 5  6  7  8  9]\n",
      " [10 11 12 13 14]]\n",
      "y:\n",
      "[[0 1 2 3 4]]\n",
      "z:\n",
      "[[ 0  0  0  0  0]\n",
      " [ 5  5  5  5  5]\n",
      " [10 10 10 10 10]]\n"
     ]
    }
   ],
   "source": [
    "#배열 연산시크기가 작은배열의 행과 열을 자동으로 큰 배열쪽에 맞춤\n",
    "import numpy as np\n",
    "\n",
    "# 0에서 14사이의 정수값을 갖는 3 x 5의 ndarray 배열 x를 생성\n",
    "x = np.arange(15).reshape(3,5)\n",
    "print(\"x:\")\n",
    "print(x)\n",
    "\n",
    "# 0에서 4사이의 정수값을 갖는 1 x 5의 ndarray 배열 y를 생성\n",
    "y = np.array([np.arange(5)])\n",
    "print(\"y:\")\n",
    "print(y)\n",
    "\n",
    "# x의 n번째 열의 모든 행에서 n만 빼세요\n",
    "z = x - y\n",
    "\n",
    "# x를 출력\n",
    "print(\"z:\")\n",
    "print(z)"
   ]
  }
 ],
 "metadata": {
  "kernelspec": {
   "display_name": "Python 3 (ipykernel)",
   "language": "python",
   "name": "python3"
  },
  "language_info": {
   "codemirror_mode": {
    "name": "ipython",
    "version": 3
   },
   "file_extension": ".py",
   "mimetype": "text/x-python",
   "name": "python",
   "nbconvert_exporter": "python",
   "pygments_lexer": "ipython3",
   "version": "3.9.6"
  }
 },
 "nbformat": 4,
 "nbformat_minor": 5
}
