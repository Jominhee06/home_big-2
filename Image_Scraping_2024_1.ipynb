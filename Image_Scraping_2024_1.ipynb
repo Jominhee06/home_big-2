{
  "nbformat": 4,
  "nbformat_minor": 0,
  "metadata": {
    "colab": {
      "provenance": [],
      "gpuType": "T4"
    },
    "kernelspec": {
      "name": "python3",
      "display_name": "Python 3"
    },
    "language_info": {
      "name": "python"
    },
    "accelerator": "GPU"
  },
  "cells": [
    {
      "cell_type": "code",
      "execution_count": 1,
      "metadata": {
        "colab": {
          "base_uri": "https://localhost:8080/"
        },
        "id": "msiTEhaZ55_t",
        "outputId": "f94d2a71-b2bb-499f-d942-829b7da37aeb"
      },
      "outputs": [
        {
          "output_type": "stream",
          "name": "stdout",
          "text": [
            "Collecting bing-image-downloader\n",
            "  Downloading bing_image_downloader-1.1.2-py3-none-any.whl (5.9 kB)\n",
            "\u001b[31mERROR: Operation cancelled by user\u001b[0m\u001b[31m\n",
            "\u001b[0m"
          ]
        }
      ],
      "source": [
        "!pip install bing-image-downloader"
      ]
    },
    {
      "cell_type": "code",
      "source": [
        "from bing_image_downloader import downloader # bing_image_downloader 모듈에서 downloader를 가져옴\n",
        "\n",
        "from pathlib import Path # pathlib 모듈에서 Path를 가져옴\n",
        "\n",
        "\n",
        "def download_images(keyword, num_images, file_name):\n",
        "\n",
        "    output_directory = \"엑소수호\" # 이미지를 저장할 폴더 이름\n",
        "\n",
        "\n",
        "\n",
        "    downloader.download(keyword, limit=num_images, output_dir=output_directory, adult_filter_off=True, force_replace=False, timeout=60)\n",
        "    # 이미지 다운로드\n",
        "\n",
        "\n",
        "\n",
        "    root = Path().cwd() / output_directory # 이미지 저장 폴더의 경로\n",
        "\n",
        "    downloaded_files = list(root.glob(\"*.*\")) # 폴더 내 모든 파일 가져오기\n",
        "\n",
        "    for i, file in enumerate(downloaded_files): # 다운로드된 각 파일에 대해 반복\n",
        "\n",
        "        extension = file.suffix # 파일 확장자\n",
        "\n",
        "        new_file_name = f\"{file_name}{i+1}{extension}\" # 새로운 파일 이름\n",
        "\n",
        "        new_file_path = root / new_file_name # 새로운 파일 경로\n",
        "\n",
        "        file.rename(new_file_path) # 파일 이름 변경\n"
      ],
      "metadata": {
        "id": "PezqnsBW6z8C"
      },
      "execution_count": null,
      "outputs": []
    },
    {
      "cell_type": "code",
      "source": [
        "# 사용 예시\n",
        "\n",
        "keyword = \"엑소 수호\" # 이미지 검색 키워드\n",
        "\n",
        "num_images = 20 # 다운로드할 이미지 수\n",
        "\n",
        "file_name = \"수호\" # 파일 이름"
      ],
      "metadata": {
        "id": "i7rN9bKy7LbI"
      },
      "execution_count": null,
      "outputs": []
    },
    {
      "cell_type": "code",
      "source": [
        "from google.colab import drive\n",
        "drive.mount('/content/drive')"
      ],
      "metadata": {
        "colab": {
          "base_uri": "https://localhost:8080/"
        },
        "id": "NDRqRbXh7asR",
        "outputId": "51f77a89-1c95-4e98-93c3-6662cd6c7597"
      },
      "execution_count": null,
      "outputs": [
        {
          "output_type": "stream",
          "name": "stdout",
          "text": [
            "Drive already mounted at /content/drive; to attempt to forcibly remount, call drive.mount(\"/content/drive\", force_remount=True).\n"
          ]
        }
      ]
    },
    {
      "cell_type": "code",
      "source": [
        "download_images(keyword, num_images, file_name) # 이미지 다운로드"
      ],
      "metadata": {
        "colab": {
          "base_uri": "https://localhost:8080/"
        },
        "id": "GG2xNQnP7kpA",
        "outputId": "c27fb9ed-9cc1-4ee9-c0bc-a88a3fea2786"
      },
      "execution_count": null,
      "outputs": [
        {
          "output_type": "stream",
          "name": "stdout",
          "text": [
            "[%] Downloading Images to /content/엑소수호/엑소 수호\n",
            "\n",
            "\n",
            "[!!]Indexing page: 1\n",
            "\n",
            "[%] Indexed 20 Images on Page 1.\n",
            "\n",
            "===============================================\n",
            "\n",
            "[%] Downloading Image #1 from https://file.mk.co.kr/meet/neds/2022/02/image_readtop_2022_156491_16451500444950574.jpg\n",
            "[%] File Downloaded !\n",
            "\n",
            "[%] Downloading Image #2 from https://img.hankyung.com/photo/202302/03.30752169.1.jpg\n",
            "[%] File Downloaded !\n",
            "\n",
            "[%] Downloading Image #3 from http://thumb.mtstarnews.com/06/2020/04/2020040316105647504_1.jpg\n",
            "[%] File Downloaded !\n",
            "\n",
            "[%] Downloading Image #4 from https://img.sbs.co.kr/newsnet/etv/upload/2019/10/29/30000636877_1280.jpg\n",
            "[%] File Downloaded !\n",
            "\n",
            "[%] Downloading Image #5 from https://talkimg.imbc.com/TVianUpload/tvian/TViews/image/2018/11/01/HaUGbC0woZOF636766851962802103.jpg\n",
            "[%] File Downloaded !\n",
            "\n",
            "[%] Downloading Image #6 from https://i.pinimg.com/originals/b7/90/3e/b7903e3fa8bbfe435064a7738030650b.jpg\n",
            "[%] File Downloaded !\n",
            "\n",
            "[%] Downloading Image #7 from https://cdnweb01.wikitree.co.kr/webdata/editor/202006/22/img_20200622073241_087f45fc.webp\n",
            "[%] File Downloaded !\n",
            "\n",
            "[%] Downloading Image #8 from https://image.news1.kr/system/photos/2018/11/1/3371983/article.jpg/dims/optimize\n",
            "[%] File Downloaded !\n",
            "\n",
            "[%] Downloading Image #9 from https://file2.nocutnews.co.kr/newsroom/image/2020/03/30/20200330095719867528_0_800_1120.jpg\n",
            "[%] File Downloaded !\n",
            "\n",
            "[%] Downloading Image #10 from https://image.ytn.co.kr/osen/2020/03/a35b56ad-af15-4687-9b7c-fa6e88dbb5f5.jpg\n",
            "[Error]Invalid image, not saving https://image.ytn.co.kr/osen/2020/03/a35b56ad-af15-4687-9b7c-fa6e88dbb5f5.jpg\n",
            "\n",
            "[!] Issue getting: https://image.ytn.co.kr/osen/2020/03/a35b56ad-af15-4687-9b7c-fa6e88dbb5f5.jpg\n",
            "[!] Error:: Invalid image, not saving https://image.ytn.co.kr/osen/2020/03/a35b56ad-af15-4687-9b7c-fa6e88dbb5f5.jpg\n",
            "\n",
            "[%] Downloading Image #10 from https://cdn.nbnnews.co.kr/news/photo/202207/692024_691551_5221.jpg\n",
            "[%] File Downloaded !\n",
            "\n",
            "[%] Downloading Image #11 from http://img.tf.co.kr/article/home/2023/06/26/202324351687738677.jpg\n",
            "[%] File Downloaded !\n",
            "\n",
            "[%] Downloading Image #12 from https://image.xportsnews.com/contents/images/upload/article/2017/1225/1514207695707228.jpg\n",
            "[%] File Downloaded !\n",
            "\n",
            "[%] Downloading Image #13 from https://file2.nocutnews.co.kr/newsroom/image/2022/02/14/202202140831597652_0.jpg\n",
            "[%] File Downloaded !\n",
            "\n",
            "[%] Downloading Image #14 from https://i.pinimg.com/originals/d8/62/e2/d862e29ce320f1b27c023315a3576fdb.jpg\n",
            "[%] File Downloaded !\n",
            "\n",
            "[%] Downloading Image #15 from https://newsimg.hankookilbo.com/cms/articlerelease/2017/06/12/201706122027762798_1.jpg\n",
            "[%] File Downloaded !\n",
            "\n",
            "[%] Downloading Image #16 from https://cdn.topstarnews.net/news/photo/202207/14707995_819909_2559.jpg\n",
            "[%] File Downloaded !\n",
            "\n",
            "[%] Downloading Image #17 from https://cdn.sommeliertimes.com/news/photo/202205/20802_48505_3752.jpg\n",
            "[%] File Downloaded !\n",
            "\n",
            "[%] Downloading Image #18 from http://img.etoday.co.kr/pto_db/2017/12/20171225071149_1167974_600_818.jpg\n",
            "[%] File Downloaded !\n",
            "\n",
            "[%] Downloading Image #19 from https://img.hankyung.com/photo/201910/03.20853873.1.jpg\n",
            "[%] File Downloaded !\n",
            "\n",
            "\n",
            "\n",
            "[!!]Indexing page: 2\n",
            "\n",
            "[%] Indexed 35 Images on Page 2.\n",
            "\n",
            "===============================================\n",
            "\n",
            "[%] Downloading Image #20 from https://www.idsn.co.kr/news/data/20230224/p1065594307518587_793_thum.jpg\n",
            "[%] File Downloaded !\n",
            "\n",
            "\n",
            "\n",
            "[%] Done. Downloaded 20 images.\n"
          ]
        }
      ]
    },
    {
      "cell_type": "code",
      "source": [
        "import shutil\n",
        "\n",
        "def compress_folder(folder_path, output_path):\n",
        "    shutil.make_archive(output_path, 'zip', folder_path)\n",
        "\n",
        "# 이미지 저장 폴더 압축\n",
        "folder_path = \"엑소수호\"\n",
        "output_path = \"수호\"\n",
        "compress_folder(folder_path, output_path)\n"
      ],
      "metadata": {
        "id": "8OIHV2zS8mhI"
      },
      "execution_count": null,
      "outputs": []
    }
  ]
}